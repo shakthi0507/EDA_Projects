{
 "cells": [
  {
   "cell_type": "markdown",
   "id": "fcd05a85",
   "metadata": {},
   "source": [
    "## Load the library"
   ]
  },
  {
   "cell_type": "code",
   "execution_count": null,
   "id": "b115d3db",
   "metadata": {},
   "outputs": [],
   "source": []
  },
  {
   "cell_type": "markdown",
   "id": "d76d6518",
   "metadata": {},
   "source": [
    "## Read the data"
   ]
  },
  {
   "cell_type": "code",
   "execution_count": null,
   "id": "22ac866b",
   "metadata": {},
   "outputs": [],
   "source": [
    "## Load the data from your file or data source."
   ]
  },
  {
   "cell_type": "code",
   "execution_count": null,
   "id": "d702c1cf",
   "metadata": {},
   "outputs": [],
   "source": []
  },
  {
   "cell_type": "code",
   "execution_count": null,
   "id": "c6dd42f3",
   "metadata": {},
   "outputs": [],
   "source": [
    "## Show first 5 rows"
   ]
  },
  {
   "cell_type": "code",
   "execution_count": null,
   "id": "d7ce7292",
   "metadata": {},
   "outputs": [],
   "source": []
  },
  {
   "cell_type": "code",
   "execution_count": null,
   "id": "26b13546",
   "metadata": {},
   "outputs": [],
   "source": [
    "## Show last 5 rows"
   ]
  },
  {
   "cell_type": "code",
   "execution_count": null,
   "id": "672eb704",
   "metadata": {},
   "outputs": [],
   "source": []
  },
  {
   "cell_type": "code",
   "execution_count": null,
   "id": "c272d308",
   "metadata": {},
   "outputs": [],
   "source": [
    "## Show the info for data"
   ]
  },
  {
   "cell_type": "code",
   "execution_count": null,
   "id": "a9ff9400",
   "metadata": {},
   "outputs": [],
   "source": []
  },
  {
   "cell_type": "code",
   "execution_count": null,
   "id": "296f7206",
   "metadata": {},
   "outputs": [],
   "source": [
    "## Show the columns"
   ]
  },
  {
   "cell_type": "code",
   "execution_count": null,
   "id": "548a1acd",
   "metadata": {},
   "outputs": [],
   "source": []
  },
  {
   "cell_type": "code",
   "execution_count": null,
   "id": "ccd014df",
   "metadata": {},
   "outputs": [],
   "source": [
    "## Show the description summary for numerical and categorical values."
   ]
  },
  {
   "cell_type": "code",
   "execution_count": null,
   "id": "af2ef6c5",
   "metadata": {},
   "outputs": [],
   "source": []
  },
  {
   "cell_type": "markdown",
   "id": "1c3a3aeb",
   "metadata": {},
   "source": [
    "# Exploratory Data Analysis"
   ]
  },
  {
   "cell_type": "code",
   "execution_count": null,
   "id": "26cf347d",
   "metadata": {},
   "outputs": [],
   "source": []
  },
  {
   "cell_type": "code",
   "execution_count": null,
   "id": "1c22eeb7",
   "metadata": {},
   "outputs": [],
   "source": []
  },
  {
   "cell_type": "markdown",
   "id": "5e4f8147",
   "metadata": {},
   "source": [
    "## Do Numerical Analysis of Columns"
   ]
  },
  {
   "cell_type": "code",
   "execution_count": null,
   "id": "71b5a3a0",
   "metadata": {},
   "outputs": [],
   "source": [
    "#  Numerical column analysis \n",
    "\n",
    "#  Maximum and mimimum value mean, meadian or std deviation or variance, skew\n",
    "\n",
    "# Asymmetry \n",
    "# Skewness is a statistical measure of the asymmetry of a probability distribution. \n",
    "# It characterizes the extent to which the distribution of a set of values deviates from a normal distribution.\n",
    "# If the skewness is between -0.5 & 0.5, the data are nearly symmetrical.\n",
    "# If the skewness is between -1 & -0.5 (negative skewed) or between 0.5 & 1(positive skewed), the data are slightly skewed.\n",
    "# If the skewness is lower than -1 (negative skewed) or greater than 1 (positive skewed), the data are extremely skewed.\n",
    "\n",
    "\n",
    "#  You can learn about their distribution.\n",
    "# - Histogram.\n",
    "#  While a histogram is made up of bars that touch each other,it shows counts of values in each range.\n",
    "\n",
    "# - Distribution plot. \n",
    "#  While a density plot shows the proportion of values in each range, a density plot is a smooth curve \n",
    "# that shows the distribution of the data in a more continuous way\n",
    "\n",
    "# Quantile Analysis\n",
    "# A quantile defines a particular part of a data set, \n",
    "# i.e. a quantile determines how many values in a distribution are above or below a certain limit.\n",
    "\n",
    "# Analysis of extreme value\n",
    "# - Box Plot\n",
    "# - Violin plot"
   ]
  },
  {
   "cell_type": "code",
   "execution_count": null,
   "id": "ff26e186",
   "metadata": {},
   "outputs": [],
   "source": []
  },
  {
   "cell_type": "code",
   "execution_count": null,
   "id": "e946e89c",
   "metadata": {},
   "outputs": [],
   "source": [
    "## Conclude and write down your observation."
   ]
  },
  {
   "cell_type": "code",
   "execution_count": null,
   "id": "5aafc0d0",
   "metadata": {},
   "outputs": [],
   "source": []
  },
  {
   "cell_type": "markdown",
   "id": "2aa4f3c8",
   "metadata": {},
   "source": [
    "## Do Categortical  Analysis of Columns"
   ]
  },
  {
   "cell_type": "code",
   "execution_count": null,
   "id": "1e843215",
   "metadata": {},
   "outputs": [],
   "source": [
    "#  Categorical column analysis \n",
    "# find  how many no. of unique values and  nunique()\n",
    "# what are those unique values. unique()\n",
    "\n",
    "#  You can learn about their count values value_counts()\n",
    "# and their percentage. value_counts(noramlize=True)*100\n",
    "\n",
    "# value_counts allows you to find the number of each category in the that column.\n",
    "\n",
    "#  Count plot.\n",
    "\n",
    "\n",
    "\n",
    "#  Word cloud to create most frequently occuring words. not so important"
   ]
  },
  {
   "cell_type": "code",
   "execution_count": null,
   "id": "6976c42c",
   "metadata": {},
   "outputs": [],
   "source": []
  },
  {
   "cell_type": "code",
   "execution_count": null,
   "id": "73b7d421",
   "metadata": {},
   "outputs": [],
   "source": [
    "## Conclude and write down your observation."
   ]
  },
  {
   "cell_type": "code",
   "execution_count": null,
   "id": "57c52361",
   "metadata": {},
   "outputs": [],
   "source": []
  },
  {
   "cell_type": "code",
   "execution_count": null,
   "id": "f4a91a82",
   "metadata": {},
   "outputs": [],
   "source": []
  },
  {
   "cell_type": "markdown",
   "id": "02954063",
   "metadata": {},
   "source": [
    "## Combine Numerical and categorical columns for analysis"
   ]
  },
  {
   "cell_type": "code",
   "execution_count": null,
   "id": "11bd54ee",
   "metadata": {},
   "outputs": [],
   "source": []
  },
  {
   "cell_type": "code",
   "execution_count": null,
   "id": "b699d90b",
   "metadata": {},
   "outputs": [],
   "source": []
  },
  {
   "cell_type": "markdown",
   "id": "8d04478e",
   "metadata": {},
   "source": [
    "## Add your own Questions"
   ]
  },
  {
   "cell_type": "code",
   "execution_count": null,
   "id": "e0b31e85",
   "metadata": {},
   "outputs": [],
   "source": []
  },
  {
   "cell_type": "code",
   "execution_count": null,
   "id": "8a97bb15",
   "metadata": {},
   "outputs": [],
   "source": []
  },
  {
   "cell_type": "markdown",
   "id": "8b64ff72",
   "metadata": {},
   "source": [
    "# Data Cleaning"
   ]
  },
  {
   "cell_type": "markdown",
   "id": "0a13a6b0",
   "metadata": {},
   "source": [
    "## 1. Handling Duplicate data"
   ]
  },
  {
   "cell_type": "code",
   "execution_count": null,
   "id": "eff087df",
   "metadata": {},
   "outputs": [],
   "source": [
    "## Check shape of original data"
   ]
  },
  {
   "cell_type": "code",
   "execution_count": null,
   "id": "3817caa5",
   "metadata": {},
   "outputs": [],
   "source": []
  },
  {
   "cell_type": "code",
   "execution_count": null,
   "id": "cebbe36a",
   "metadata": {},
   "outputs": [],
   "source": [
    "## Check shape after applying drop duplicates."
   ]
  },
  {
   "cell_type": "code",
   "execution_count": null,
   "id": "3cd04bc9",
   "metadata": {},
   "outputs": [],
   "source": []
  },
  {
   "cell_type": "code",
   "execution_count": null,
   "id": "aa47a14e",
   "metadata": {},
   "outputs": [],
   "source": [
    "## Drop duplicate values and reset your index columns."
   ]
  },
  {
   "cell_type": "code",
   "execution_count": null,
   "id": "4b433d70",
   "metadata": {},
   "outputs": [],
   "source": []
  },
  {
   "cell_type": "code",
   "execution_count": null,
   "id": "9534578f",
   "metadata": {},
   "outputs": [],
   "source": [
    "## Conslusion or what you have done for achieving this."
   ]
  },
  {
   "cell_type": "code",
   "execution_count": null,
   "id": "04a4f3d3",
   "metadata": {},
   "outputs": [],
   "source": []
  },
  {
   "cell_type": "markdown",
   "id": "6bbc0d66",
   "metadata": {},
   "source": [
    "## 2.  Handling Missing Values"
   ]
  },
  {
   "cell_type": "code",
   "execution_count": null,
   "id": "cd56f06e",
   "metadata": {},
   "outputs": [],
   "source": [
    "## Apply isnull() function and find the sum of missing values in all columns."
   ]
  },
  {
   "cell_type": "code",
   "execution_count": null,
   "id": "a93ad3d8",
   "metadata": {},
   "outputs": [],
   "source": []
  },
  {
   "cell_type": "code",
   "execution_count": null,
   "id": "21308755",
   "metadata": {},
   "outputs": [],
   "source": [
    "## Find missing value in % form."
   ]
  },
  {
   "cell_type": "code",
   "execution_count": null,
   "id": "344b2639",
   "metadata": {},
   "outputs": [],
   "source": []
  },
  {
   "cell_type": "code",
   "execution_count": null,
   "id": "944a6853",
   "metadata": {},
   "outputs": [],
   "source": [
    "## Conclude your finding on missing values."
   ]
  },
  {
   "cell_type": "code",
   "execution_count": null,
   "id": "676bfb76",
   "metadata": {},
   "outputs": [],
   "source": []
  },
  {
   "cell_type": "code",
   "execution_count": null,
   "id": "d3c7c288",
   "metadata": {},
   "outputs": [],
   "source": [
    "## Substitute missing values if you're not dropping the columns"
   ]
  },
  {
   "cell_type": "code",
   "execution_count": null,
   "id": "fdec49dd",
   "metadata": {},
   "outputs": [],
   "source": []
  },
  {
   "cell_type": "code",
   "execution_count": null,
   "id": "e61524bf",
   "metadata": {},
   "outputs": [],
   "source": [
    "## Drop the columns based on above analysis."
   ]
  },
  {
   "cell_type": "code",
   "execution_count": null,
   "id": "e093264b",
   "metadata": {},
   "outputs": [],
   "source": []
  },
  {
   "cell_type": "code",
   "execution_count": null,
   "id": "c0c89988",
   "metadata": {},
   "outputs": [],
   "source": [
    "## Conslusion or what you have done for achieving this."
   ]
  },
  {
   "cell_type": "code",
   "execution_count": null,
   "id": "31cd9658",
   "metadata": {},
   "outputs": [],
   "source": []
  },
  {
   "cell_type": "markdown",
   "id": "5853657a",
   "metadata": {},
   "source": [
    "## 3. Handling Outliers "
   ]
  },
  {
   "cell_type": "code",
   "execution_count": null,
   "id": "34c5fef6",
   "metadata": {},
   "outputs": [],
   "source": [
    "## Apply below techniques on numerical columns.\n",
    "\n",
    "# Do box plot and violin plot to identify outliers.\n",
    "\n",
    "# Q1 --> 25%ile of data \n",
    "#     first line of the box plot\n",
    "# Q2 --> median or 50%ile of data\n",
    "#     second line or middle line of the box.\n",
    "# Q3 --> 75%ile of data   \n",
    "#     third line or the last of the box.\n",
    "\n",
    "# IQR --> Interquartile range.\n",
    "#      distance/value between Q1 or 25%ile and Q3 or 75%ile\n",
    "#     IQR = Q3-Q1\n",
    "    \n",
    "# minimum whisker --> Q1 - 1.5*IQR\n",
    "# maximum whisker --> Q3 + 1.5*IQR\n",
    "\n",
    "# Any value below mimimum whisker and above maximum whisker are termed as outlier."
   ]
  },
  {
   "cell_type": "code",
   "execution_count": null,
   "id": "295b4785",
   "metadata": {},
   "outputs": [],
   "source": []
  },
  {
   "cell_type": "code",
   "execution_count": null,
   "id": "887f5428",
   "metadata": {},
   "outputs": [],
   "source": []
  },
  {
   "cell_type": "code",
   "execution_count": null,
   "id": "50133783",
   "metadata": {},
   "outputs": [],
   "source": [
    "## Based on your anlysis either drop extreme values or substitute them with more acceptable value."
   ]
  },
  {
   "cell_type": "code",
   "execution_count": null,
   "id": "39da7bee",
   "metadata": {},
   "outputs": [],
   "source": []
  },
  {
   "cell_type": "code",
   "execution_count": null,
   "id": "59cae6ce",
   "metadata": {},
   "outputs": [],
   "source": [
    "## Conslusion or what you have done for achieving this."
   ]
  },
  {
   "cell_type": "code",
   "execution_count": null,
   "id": "ebad5942",
   "metadata": {},
   "outputs": [],
   "source": []
  },
  {
   "cell_type": "markdown",
   "id": "4efe0f27",
   "metadata": {},
   "source": [
    "## 4. Handling Categoirical Values"
   ]
  },
  {
   "cell_type": "code",
   "execution_count": null,
   "id": "e968ed35",
   "metadata": {},
   "outputs": [],
   "source": [
    "## Idea is be to convert these string like values to number.\n",
    "## Collect all Categorical column"
   ]
  },
  {
   "cell_type": "code",
   "execution_count": null,
   "id": "5e2e482f",
   "metadata": {},
   "outputs": [],
   "source": []
  },
  {
   "cell_type": "code",
   "execution_count": null,
   "id": "4e92975a",
   "metadata": {},
   "outputs": [],
   "source": [
    "# Ordinal --> Something that shows order.\n",
    "# e.g. \n",
    "# level of education.\n",
    "# 10th,12th,Diploma,Graduation, Masters,Phd\n",
    "# 1,2,3,4,5,6\n",
    "\n",
    "# shopping for clothes t-shirts,\n",
    "# XS,S,M,L,XL,XXL\n",
    "# 1,2,3,4,5,6\n",
    "\n",
    "\n",
    "# -- category encoding\n",
    "# -- mapping of values to number in some order."
   ]
  },
  {
   "cell_type": "code",
   "execution_count": null,
   "id": "203f3212",
   "metadata": {},
   "outputs": [],
   "source": []
  },
  {
   "cell_type": "code",
   "execution_count": 2,
   "id": "908da6dd",
   "metadata": {},
   "outputs": [],
   "source": [
    "# Nominal --> Something which doesn't show order.\n",
    "# e.g.\n",
    "# cities in India\n",
    "# delhi,mumbai,kolkatta,pune,chennai,hyderabad,bangalore\n",
    "\n",
    "# subject of education\n",
    "# physics,mathematics,chemistry,commerce,biology,english,hindi,sanskrit\n",
    "\n",
    "# gender of human\n",
    "# male, female\n",
    "\n",
    "\n",
    "# sex        sex_male , sex_female\n",
    "# male          1     ,   0\n",
    "# female        0     ,   1 \n",
    "# male          1     ,   0\n",
    "# male          1     ,   0\n",
    "\n",
    "\n",
    "# -- One-hot encoding.\n",
    "# by which we convert the individual values in the column to a new column\n",
    "# by making available value for row as 1 and other as 0.\n",
    "\n",
    "# different ways of applying one-hot encoding:\n",
    "#     1. to apply using pandas pd.get_dummies\n",
    "#     2. to is sklearn (scientic package for mode building).\n",
    "    \n",
    "# there is a limitation of one-hot encoding.\n",
    "# Suppose there is a data which 100000 row and has a column city which 1000 unique city.\n",
    "\n",
    "# no. of unique values in a categorical coilumn is reffered to as cardinality.\n",
    "# if a caloumn has 5-7 uniques values they are reffred to as medium to low cardinality.\n",
    "# if this no. increase to more than 10 then it becomes high cardinarility.\n",
    "\n",
    "# Cardinality of nominal values values are high.\n",
    "# there is a limitation of one-hot encoding.\n",
    "# Suppose there is a data which 100000 row and has a column city which 1000 unique city.\n",
    "\n",
    "# -- frequency encoding\n",
    "# city     city\n",
    "# pune     0.14 \n",
    "# ...\n",
    "# ...\n",
    "# delhi    0.26\n",
    "# etc.\n",
    "\n",
    "# value_counts() \n",
    "# use frequency of how many times pune has occured 1200 or in % form.\n",
    "\n",
    "# -- target-mean encoding\n",
    "# city       survived\n",
    "# pune          1 \n",
    "# ...           0   \n",
    "# delhi\n",
    "# bangalore\n",
    "# ...\n",
    "# etc.\n",
    "\n",
    "# link for different technique.\n",
    "# http://contrib.scikit-learn.org/category_encoders/"
   ]
  },
  {
   "cell_type": "code",
   "execution_count": null,
   "id": "fd9e3132",
   "metadata": {},
   "outputs": [],
   "source": []
  },
  {
   "cell_type": "code",
   "execution_count": null,
   "id": "3d260c53",
   "metadata": {},
   "outputs": [],
   "source": []
  },
  {
   "cell_type": "code",
   "execution_count": null,
   "id": "0a9ef06c",
   "metadata": {},
   "outputs": [],
   "source": [
    "## Conslusion or what you have done for achieving this."
   ]
  },
  {
   "cell_type": "code",
   "execution_count": null,
   "id": "a730fee8",
   "metadata": {},
   "outputs": [],
   "source": []
  },
  {
   "cell_type": "code",
   "execution_count": null,
   "id": "57d925e5",
   "metadata": {},
   "outputs": [],
   "source": []
  },
  {
   "cell_type": "markdown",
   "id": "3feb9882",
   "metadata": {},
   "source": [
    "## 5 . Handling Numerical values"
   ]
  },
  {
   "cell_type": "code",
   "execution_count": null,
   "id": "e3386581",
   "metadata": {},
   "outputs": [],
   "source": [
    "## Whether the data is symmetrical or not.\n",
    "## Plot histogram and distribution plot."
   ]
  },
  {
   "cell_type": "code",
   "execution_count": null,
   "id": "499dbe27",
   "metadata": {},
   "outputs": [],
   "source": []
  },
  {
   "cell_type": "code",
   "execution_count": null,
   "id": "6e8648ee",
   "metadata": {},
   "outputs": [],
   "source": [
    "## If your data is not skwed and symmetrical apply standard scaler."
   ]
  },
  {
   "cell_type": "code",
   "execution_count": null,
   "id": "3d0be7fe",
   "metadata": {},
   "outputs": [],
   "source": []
  },
  {
   "cell_type": "code",
   "execution_count": null,
   "id": "f575e58f",
   "metadata": {},
   "outputs": [],
   "source": [
    "## Confirm the distribution patter by Plot histogram and distribution plot again."
   ]
  },
  {
   "cell_type": "code",
   "execution_count": null,
   "id": "71e82186",
   "metadata": {},
   "outputs": [],
   "source": []
  },
  {
   "cell_type": "code",
   "execution_count": null,
   "id": "935f1761",
   "metadata": {},
   "outputs": [],
   "source": [
    "## If your data is skwed and non-symmetrical apply min-max scaler."
   ]
  },
  {
   "cell_type": "code",
   "execution_count": null,
   "id": "125a88b3",
   "metadata": {},
   "outputs": [],
   "source": []
  },
  {
   "cell_type": "code",
   "execution_count": null,
   "id": "1b23655f",
   "metadata": {},
   "outputs": [],
   "source": [
    "## Confirm the distribution patter by Plot histogram and distribution plot again."
   ]
  },
  {
   "cell_type": "code",
   "execution_count": null,
   "id": "e7a0a050",
   "metadata": {},
   "outputs": [],
   "source": []
  },
  {
   "cell_type": "code",
   "execution_count": null,
   "id": "3eea48ef",
   "metadata": {},
   "outputs": [],
   "source": [
    "## Conslusion or what you have done for achieving this."
   ]
  },
  {
   "cell_type": "code",
   "execution_count": null,
   "id": "ed31ad5b",
   "metadata": {},
   "outputs": [],
   "source": []
  },
  {
   "cell_type": "code",
   "execution_count": null,
   "id": "58816009",
   "metadata": {},
   "outputs": [],
   "source": []
  },
  {
   "cell_type": "markdown",
   "id": "11d56924",
   "metadata": {},
   "source": [
    "# Model Building"
   ]
  },
  {
   "cell_type": "code",
   "execution_count": null,
   "id": "b5b9beb6",
   "metadata": {},
   "outputs": [],
   "source": []
  },
  {
   "cell_type": "code",
   "execution_count": null,
   "id": "a035c0ab",
   "metadata": {},
   "outputs": [],
   "source": []
  },
  {
   "cell_type": "code",
   "execution_count": null,
   "id": "61ca8b75",
   "metadata": {},
   "outputs": [],
   "source": []
  }
 ],
 "metadata": {
  "kernelspec": {
   "display_name": "Python 3 (ipykernel)",
   "language": "python",
   "name": "python3"
  },
  "language_info": {
   "codemirror_mode": {
    "name": "ipython",
    "version": 3
   },
   "file_extension": ".py",
   "mimetype": "text/x-python",
   "name": "python",
   "nbconvert_exporter": "python",
   "pygments_lexer": "ipython3",
   "version": "3.9.13"
  }
 },
 "nbformat": 4,
 "nbformat_minor": 5
}
